{
 "cells": [
  {
   "cell_type": "markdown",
   "id": "olive-onion",
   "metadata": {},
   "source": [
    "- Update Jupyter Lab in pip\n",
    "    - `pip install --upgrade jupyterlab`\n",
    "    - `pip install jupyterlab==1.2.4`"
   ]
  },
  {
   "cell_type": "markdown",
   "id": "third-contest",
   "metadata": {},
   "source": [
    "- 403 Forbiden Error, prevent download notebook\n",
    "    - `jupyter lab --NotebookApp.allow_origin=*`"
   ]
  },
  {
   "cell_type": "code",
   "execution_count": null,
   "id": "accepted-magic",
   "metadata": {},
   "outputs": [],
   "source": []
  }
 ],
 "metadata": {
  "kernelspec": {
   "display_name": "Python 3",
   "language": "python",
   "name": "python3"
  },
  "language_info": {
   "codemirror_mode": {
    "name": "ipython",
    "version": 3
   },
   "file_extension": ".py",
   "mimetype": "text/x-python",
   "name": "python",
   "nbconvert_exporter": "python",
   "pygments_lexer": "ipython3",
   "version": "3.8.5"
  }
 },
 "nbformat": 4,
 "nbformat_minor": 5
}
