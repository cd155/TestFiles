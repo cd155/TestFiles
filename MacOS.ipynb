{
 "cells": [
  {
   "cell_type": "markdown",
   "id": "respective-summer",
   "metadata": {},
   "source": [
    "- Look at start up item in MacOS\n",
    "    - Use `launchctl list` check every items launched.\n",
    "    - Use `launchctl list | grep -v com.apple` check every items launched not belong to Apple.\n",
    "\n",
    "- Remove start up items\n",
    "    - Shift + Command + G, enter `/Library/LaunchDaemons`, remove unwanted items from start up."
   ]
  },
  {
   "cell_type": "code",
   "execution_count": null,
   "id": "reported-assumption",
   "metadata": {},
   "outputs": [],
   "source": []
  }
 ],
 "metadata": {
  "kernelspec": {
   "display_name": "Python 3",
   "language": "python",
   "name": "python3"
  },
  "language_info": {
   "codemirror_mode": {
    "name": "ipython",
    "version": 3
   },
   "file_extension": ".py",
   "mimetype": "text/x-python",
   "name": "python",
   "nbconvert_exporter": "python",
   "pygments_lexer": "ipython3",
   "version": "3.8.5"
  }
 },
 "nbformat": 4,
 "nbformat_minor": 5
}
