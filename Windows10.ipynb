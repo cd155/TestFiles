{
 "cells": [
  {
   "cell_type": "markdown",
   "id": "infinite-integration",
   "metadata": {},
   "source": [
    "- Windows 10 Home Single language problem: \n",
    "    - Nowadays, the laptop we buy usually comes with a pre-install Windows 10 Home. Some pre-install Windows 10 can not switch from one language from others. That is a Windows 10 Single language version. At least, this is almost happening every time in Mainland China. \n",
    "    - In order to switch Windows 10 to other languages. The best way is to use Media Creation Tool, provides by Microsoft, to reinstall the system to Window 10 Home (not a single language version). This is acceptable by Microsoft. Microsoft checked the product key which bundles in the motherboard to match the version you install. Apparently, they only check whether it is Window 10 Home or not, which means you can install a normal Window 10 Home to replace a Window 10 Home Single Language version.\n",
    "\n",
    "- Linked the free Office 2019 \n",
    "    - Before you reinstall Window 10, make sure you linked the office 2019 with your account. If you have a pre-install office, you can just login with your account to reclaim the ownership. The product key will store in your Microsoft account."
   ]
  },
  {
   "cell_type": "code",
   "execution_count": null,
   "id": "little-detector",
   "metadata": {},
   "outputs": [],
   "source": []
  }
 ],
 "metadata": {
  "kernelspec": {
   "display_name": "Python 3",
   "language": "python",
   "name": "python3"
  },
  "language_info": {
   "codemirror_mode": {
    "name": "ipython",
    "version": 3
   },
   "file_extension": ".py",
   "mimetype": "text/x-python",
   "name": "python",
   "nbconvert_exporter": "python",
   "pygments_lexer": "ipython3",
   "version": "3.8.5"
  }
 },
 "nbformat": 4,
 "nbformat_minor": 5
}
